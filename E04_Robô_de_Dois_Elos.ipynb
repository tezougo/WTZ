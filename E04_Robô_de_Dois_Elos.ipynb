{
  "nbformat": 4,
  "nbformat_minor": 0,
  "metadata": {
    "colab": {
      "name": "E04 - Robô de Dois Elos.ipynb",
      "provenance": [],
      "collapsed_sections": [],
      "include_colab_link": true
    },
    "kernelspec": {
      "name": "python3",
      "display_name": "Python 3"
    }
  },
  "cells": [
    {
      "cell_type": "markdown",
      "metadata": {
        "id": "view-in-github",
        "colab_type": "text"
      },
      "source": [
        "<a href=\"https://colab.research.google.com/github/tezougo/WTZ/blob/master/E04_Rob%C3%B4_de_Dois_Elos.ipynb\" target=\"_parent\"><img src=\"https://colab.research.google.com/assets/colab-badge.svg\" alt=\"Open In Colab\"/></a>"
      ]
    },
    {
      "cell_type": "code",
      "metadata": {
        "id": "tQz7l_qHCDUW"
      },
      "source": [
        "%%capture\n",
        "!gdown --id '1g-hN06T71k5L_CMj6fMnTCEOPfyFY--M'\n",
        "!gdown --id '1AROvzRcG54Zt6iMT1-0JNbZg_68Z-jkr'\n",
        "!gdown --id '1PELvQf76Zzjsda4TA5B_8X-nwUvwxnr7'\n",
        "!gdown --id '1HcusKPkH__dxHjUj3rqtMsa5hH863npb'\n",
        "!gdown --id '1pujGP0MUoeljKMHKJpEG2ZI59j-f8MiJ'\n",
        "!pip install git+https://github.com/grading/gradememaybe.git"
      ],
      "execution_count": null,
      "outputs": []
    },
    {
      "cell_type": "markdown",
      "metadata": {
        "id": "QfoGYyjErv7u"
      },
      "source": [
        "# Robô de Dois Elos\n",
        "\n",
        "Considere um robô de dois elos, conforme ilustra a figura:\n",
        "\n",
        "<img src=\"https://drive.google.com/uc?id=1n9_mJ9sj3O2Kp9FOL8gP3RMxHiKK9tRC\" width=\"300\">\n",
        "\n",
        "Considere ainda as equações que definem a posição da garra $p$:\n",
        "\n",
        "$p = \\left[ \\begin{array}\\\\ p_x \\\\ p_y \\end{array}\\right] = \\left[ \\begin{array}\\\\ l_1 cos(\\theta_1) + l_2cos (\\theta_1+\\theta_2) \\\\ l_1 sin(\\theta_1) + l_2 sin(\\theta_1+\\theta_2) \\\\ \\end{array} \\right]$\n",
        "\n",
        "E por fim considere o ponto alvo:\n",
        "$m = \\left[\\begin{array}\\\\ m_x\\\\ m_y\\\\ \\end{array}\\right]$.\n",
        "\n",
        "A distância Euclideana entre $p$ e $m$ é dada por:\n",
        "$d = || m - p ||_2 = \\sqrt{(m_x-p_x)^2 + (m_y-p_y)^2}$\n",
        "\n",
        "Assim podemos definir uma função de custo $f(\\theta_1, \\theta_2) = d^2$, que resulta na expressão:\n",
        "$f(\\theta_1,\\theta_2)=(m_x-l_1 cos(\\theta_1) - l_2cos(\\theta_1+\\theta_2))^2 + (m_y-l_1 sin(\\theta_1) - l_2 sin(\\theta_1+\\theta_2))^2$\n",
        "\n",
        "Levando em conta o problema formulado acima:\n",
        "\n",
        "1. Escreva uma função que, dados os ângulos das juntas $\\theta_1$, $\\theta_2$, e constantes $l_1$, $l_2$, calcule a posição do ponto $p$.\n",
        "\n",
        "2. Escreva uma função que, dados o ponto $m$ e os ângulos $\\theta_1$ e $\\theta_2$ e constantes $l_1$ e $l_2$, calcule a função de custo exatamente como descrita acima.\n",
        "\n",
        "3. Calcule de forma analítica o gradiente dessa função de custo, com respeito aos ângulos $\\theta_1$ e $\\theta_2$. Implemente uma função que, dada a pose atual do robô, calcule como saída esse gradiente.\n",
        "\n",
        "5. Implemente o método da descida do gradiente utilizando as funções implementadas nos itens 2 e 3 acima.\n",
        "\n",
        "6. Mostre graficamente, numa animação, como o robô chega ao ponto desejado utilizando este método.\n",
        "\n",
        "## Avaliação\n",
        "\n",
        "Este código inclui funções de avaliação que testam a sua implementação e dão algum feedback, ainda que limitado. Para pontuar nos itens 1 a 4 acima, você deve garantir que seu código passe nos respectivos testes. Para pontuar no item 6, você deverá observar o robô chegando ao alvo na animação gerada automaticamente pelo código da última célula ao final do documento. Isso deve acontecer automaticamente se você cumpriu todos itens e passou todos testes.\n",
        "\n",
        "## Implementação"
      ]
    },
    {
      "cell_type": "code",
      "metadata": {
        "id": "7T0XT2NRGf7L"
      },
      "source": [
        "# Módulo para avaliação automática do exercício\n",
        "from gofer import ok\n",
        "\n",
        "# Módulo que simula o robô de dois elos\n",
        "from robot2link import Robot\n",
        "\n",
        "# Provavelmente vamos precisar também do\n",
        "import numpy as np"
      ],
      "execution_count": null,
      "outputs": []
    },
    {
      "cell_type": "markdown",
      "metadata": {
        "id": "JlE62Mmdl1W-"
      },
      "source": [
        "### Classe principal\n",
        "\n",
        "Preencha seu código na forma de métodos, nas lacunas deixadas no código da classe abaixo."
      ]
    },
    {
      "cell_type": "code",
      "metadata": {
        "id": "8djHsd5q55nq"
      },
      "source": [
        "# Essa classe abaixo é onde você deve implementar\n",
        "# seu robô.\n",
        "\n",
        "class MyRobot(Robot):\n",
        "  def __init__(self, **kwargs):\n",
        "    super().__init__(**kwargs)\n",
        "  def pos(self):\n",
        "    # (1) Escreva aqui seu código para\n",
        "    #     encontrar a posição do ponto p\n",
        "    #     considerando as variáveis membro\n",
        "    #     descritas abaixo:\n",
        "    #\n",
        "    #       self.l1 => comprimento do elo 1\n",
        "    #       self.l2 => comprimento do elo 2\n",
        "    #       self.theta1 => ângulo da junta 1\n",
        "    #       self.theta2 => ângulo da junta 2\n",
        "    #\n",
        "    #     O valor de retorno p deve ser um\n",
        "    #     array do NumPy contendo px e py\n",
        "    #\n",
        "    p = None\n",
        "    return p\n",
        "  def cost(self):\n",
        "    # (2) Escreva aqui seu código para calcular\n",
        "    #     a função de custo, conforme definida no\n",
        "    #     enunciado. Para isso, além das variáveis\n",
        "    #     já mencionadas e definidas anteriormente,\n",
        "    #     use também:\n",
        "    #\n",
        "    #       self.mx => coordenada x do ponto m\n",
        "    #       self.my => coordenada y do ponto m\n",
        "    #\n",
        "    cost = None\n",
        "    return cost\n",
        "  def grad(self):\n",
        "    # (3) Neste método você vai calcular o gradiente\n",
        "    #     da função de custo do item 2. Lembre de\n",
        "    #     utilizar as variáveis membro já introduzidas\n",
        "    #     nos itens anteriores.\n",
        "    #\n",
        "    #     O valor de retorno deve ser um array do NumPy\n",
        "    #     (um vetor) representando o gradiente da função\n",
        "    #     de custo. Isto significa que as componentes desse\n",
        "    #     vetor são as respectivas derivadas parciais\n",
        "    #     da função de custo em relação a theta1 e a\n",
        "    #     theta2, respectivamente.\n",
        "    grad = None\n",
        "    return grad\n",
        "  def optimize(self, step):\n",
        "    # (4) Aqui você deve escrever o código para avançar\n",
        "    #     exatamente um passo no sentido oposto do gradiente.\n",
        "    #     O tamanho do passo é dado pela variável step\n",
        "    #     fornecida no argumento da função. Use o método\n",
        "    #     self.grad() definido no item 3 para calcular o\n",
        "    #     gradiente. Após calcular os novos valores de theta1\n",
        "    #     e theta2, use o método self.move(theta1,theta2)\n",
        "    #     para registrar o movimento no robô.\n",
        "    pass"
      ],
      "execution_count": null,
      "outputs": []
    },
    {
      "cell_type": "markdown",
      "metadata": {
        "id": "HDZfU6RvmBwg"
      },
      "source": [
        "O código abaixo ilustra como você pode usar seu robô. Sinta-se à vontade para experimentar e testar colocando novas células de código abaixo."
      ]
    },
    {
      "cell_type": "code",
      "metadata": {
        "id": "U1vJjdJEyiDC"
      },
      "source": [
        "# Exemplo de uso\n",
        "\n",
        "r = MyRobot()\n",
        "r.set_goal(110,-30)\n",
        "t0s = np.linspace(0,np.pi,100)\n",
        "t1s = np.linspace(0,np.pi/2,100)\n",
        "for t0, t1 in zip(t0s, t1s):\n",
        "  r.move(t0,t1)\n",
        "r.animation()"
      ],
      "execution_count": null,
      "outputs": []
    },
    {
      "cell_type": "markdown",
      "metadata": {
        "id": "jwgLpw2HtNjF"
      },
      "source": [
        "# Avaliação automática\n",
        "\n",
        "Não modifique o código das células a partir desta aqui. Os comandos abaixo geram uma avaliação automática do seu código, oferecendo retorno que pode trazer alguma dica sobre erros mais comuns."
      ]
    },
    {
      "cell_type": "markdown",
      "metadata": {
        "id": "zwY6Ia6DzNVC"
      },
      "source": [
        "## 1. Cinemática direta"
      ]
    },
    {
      "cell_type": "code",
      "metadata": {
        "id": "raJfjnwVIqPp"
      },
      "source": [
        "ok.check('e04_1.py')"
      ],
      "execution_count": null,
      "outputs": []
    },
    {
      "cell_type": "markdown",
      "metadata": {
        "id": "bVcDS0G5zTWw"
      },
      "source": [
        "## 2. Função de custo"
      ]
    },
    {
      "cell_type": "code",
      "metadata": {
        "id": "5pzRbXoutFr9"
      },
      "source": [
        "ok.check('e04_2.py')"
      ],
      "execution_count": null,
      "outputs": []
    },
    {
      "cell_type": "markdown",
      "metadata": {
        "id": "licqPhqRcfHN"
      },
      "source": [
        "## 3. Gradiente"
      ]
    },
    {
      "cell_type": "code",
      "metadata": {
        "id": "kLBZrNeqcffl"
      },
      "source": [
        "ok.check('e04_3.py')"
      ],
      "execution_count": null,
      "outputs": []
    },
    {
      "cell_type": "markdown",
      "metadata": {
        "id": "zDG3zlmsegMd"
      },
      "source": [
        "## 4. Algoritmo"
      ]
    },
    {
      "cell_type": "code",
      "metadata": {
        "id": "eMEqnpq9cjAp"
      },
      "source": [
        "ok.check('e04_4.py')"
      ],
      "execution_count": null,
      "outputs": []
    },
    {
      "cell_type": "markdown",
      "metadata": {
        "id": "yHBae6XhfU6u"
      },
      "source": [
        "# Resultado final\n",
        "\n",
        "Quando seu código final passar em todos os testes, o código abaixo irá gerar uma animação do robô chegando ao alvo. Você pode rodar essa célula várias vezes para gerar alvos diferentes."
      ]
    },
    {
      "cell_type": "code",
      "metadata": {
        "id": "G8Pxcu-iewwk"
      },
      "source": [
        "# Abaixo criamos um robô e geramos um objetivo\n",
        "# de coordenadas mx, my aleatórias entre\n",
        "# -150 e +150. Depois disso rodamos 200\n",
        "# passos de tamanho 5e-6 corrigindo os\n",
        "# valores dos ângulos no sentido oposto\n",
        "# do gradiente.\n",
        "#\n",
        "# No resultado a animação deve mostrar\n",
        "# o robô atingindo o alvo na maioria\n",
        "# das vezes (em alguns casos 200 passos\n",
        "# pode ser pouco).\n",
        "#\n",
        "# Você pode rodar essa célula diversas\n",
        "# vezes para ver o robô alcançando diferentes\n",
        "# objetivos -- se ver isso, significa que você\n",
        "# também alcançou o seu nesse exercício :-)\n",
        "\n",
        "r = MyRobot()\n",
        "mx, my = np.random.rand(2)*300.0 - 150.0\n",
        "r.set_goal(mx, my)\n",
        "for _ in range(200):\n",
        "  r.optimize(0.000005)\n",
        "r.animation()"
      ],
      "execution_count": null,
      "outputs": []
    }
  ]
}